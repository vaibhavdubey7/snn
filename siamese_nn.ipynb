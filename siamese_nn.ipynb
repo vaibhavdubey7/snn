{
  "nbformat": 4,
  "nbformat_minor": 0,
  "metadata": {
    "colab": {
      "provenance": [],
      "mount_file_id": "1IdkyNFixoNFzLbdyGtmy_otDuGgFmN4K",
      "authorship_tag": "ABX9TyOSFKaACkGbcRodt/Kdc4Sf",
      "include_colab_link": true
    },
    "kernelspec": {
      "name": "python3",
      "display_name": "Python 3"
    },
    "language_info": {
      "name": "python"
    }
  },
  "cells": [
    {
      "cell_type": "markdown",
      "metadata": {
        "id": "view-in-github",
        "colab_type": "text"
      },
      "source": [
        "<a href=\"https://colab.research.google.com/github/vaibhavdubey7/snn/blob/main/siamese_nn.ipynb\" target=\"_parent\"><img src=\"https://colab.research.google.com/assets/colab-badge.svg\" alt=\"Open In Colab\"/></a>"
      ]
    },
    {
      "cell_type": "markdown",
      "source": [
        "###RUN"
      ],
      "metadata": {
        "id": "opsVPG1jq2hG"
      }
    },
    {
      "cell_type": "code",
      "execution_count": null,
      "metadata": {
        "id": "3QFacRSioe1h"
      },
      "outputs": [],
      "source": [
        "import os\n",
        "import numpy as np\n",
        "import matplotlib.pyplot as plt\n",
        "from PIL import Image, ImageOps\n",
        "import random\n",
        "import torch\n",
        "import torchvision\n",
        "import torchvision.transforms as transforms\n",
        "import torchvision.datasets as datasets\n",
        "import torch.nn as nn\n",
        "import torch.optim as optim\n",
        "import torch.nn.functional as F\n",
        "import imageio as iio\n",
        "\n",
        "from torch.autograd import Variable\n",
        "from torch.utils.data import DataLoader\n"
      ]
    },
    {
      "cell_type": "code",
      "source": [
        "import warnings\n",
        "warnings.filterwarnings('ignore')\n"
      ],
      "metadata": {
        "id": "FPDsSvM8omfc"
      },
      "execution_count": null,
      "outputs": []
    },
    {
      "cell_type": "code",
      "source": [
        "TRAIN_DIR = './dataset_all/training/'\n",
        "TEST_DIR = './dataset_all/testing/'\n",
        "\n",
        "WEIGHT_PATH = './weights/steel/'\n",
        "SAVE_IMAGE_PATH = './assets/'\n",
        "\n",
        "SAVE_TEST_RESULTS_PATH = './assets/test_output'\n",
        "\n",
        "device = torch.device('cuda:0' if (torch.cuda.is_available()) else 'cpu')\n"
      ],
      "metadata": {
        "id": "-4pYYJWeonUP"
      },
      "execution_count": null,
      "outputs": []
    },
    {
      "cell_type": "code",
      "source": [
        "BATCH_SIZE = 32\n",
        "N_EPOCHS = 100\n",
        "LR = 0.0005\n",
        "N_GPU = 1\n",
        "SET_L = True\n",
        "INPUT_D = 3 if SET_L == False else 1\n"
      ],
      "metadata": {
        "id": "oooJmWkCorBE"
      },
      "execution_count": null,
      "outputs": []
    },
    {
      "cell_type": "code",
      "source": [
        "def show_img(img, text=None, figsize=(20,20), save_into=None):\n",
        "    img = img.numpy()\n",
        "    plt.figure(figsize=figsize)\n",
        "    plt.axis('off')\n",
        "    if text:\n",
        "        plt.text(50, 8, text, bbox={'facecolor': 'white', 'alpha': 1 })\n",
        "    plt.imshow(np.transpose(img, (1, 2, 0)))\n",
        "\n",
        "    if save_into:\n",
        "        plt.savefig(save_into)\n",
        "        plt.show()\n",
        "    else:\n",
        "        plt.show()\n"
      ],
      "metadata": {
        "id": "AmA3FoHMoyse"
      },
      "execution_count": null,
      "outputs": []
    },
    {
      "cell_type": "code",
      "source": [
        "def explain_databatch(batch):\n",
        "    \"\"\"\n",
        "    batch: tensor batch from dataset\n",
        "    \"\"\"\n",
        "    print('Each batch of training data is a tuple of {} elements.'.format(len(batch)))\n",
        "\n",
        "    print('Shape of each element of a tuple in the batch:')\n",
        "    for i in range(len(batch)):\n",
        "        print('element#{}: {}'.format(i, batch[i].shape))\n"
      ],
      "metadata": {
        "id": "6VufePVlo3it"
      },
      "execution_count": null,
      "outputs": []
    },
    {
      "cell_type": "code",
      "source": [
        "class SiameseDataset(torch.utils.data.Dataset):\n",
        "    \"\"\"\n",
        "    Load dataset for training the network\n",
        "    \"\"\"\n",
        "\n",
        "    def __init__(self,\n",
        "                 datasets,\n",
        "                 train=True,\n",
        "                 transform=None,\n",
        "                 should_invert=True,\n",
        "                 set_luminance=True):\n",
        "\n",
        "        self.datasets = datasets\n",
        "        self.train = train\n",
        "        self.transform = transform\n",
        "        self.should_invert = should_invert\n",
        "        self.set_luminance = set_luminance\n",
        "\n",
        "    def __getitem__(self, index):\n",
        "\n",
        "        imageA_tupple = random.choice(self.datasets.imgs)\n",
        "        get_same_class = random.randint(0,1)\n",
        "        if get_same_class:\n",
        "            while True:\n",
        "                imageB_tupple = random.choice(self.datasets.imgs)\n",
        "                if imageA_tupple[1] == imageB_tupple[1]:\n",
        "                    break\n",
        "        else:\n",
        "            while True:\n",
        "                imageB_tupple = random.choice(self.datasets.imgs)\n",
        "                if imageA_tupple[1] != imageB_tupple[1]:\n",
        "                    break\n",
        "\n",
        "        imageA = Image.open(imageA_tupple[0])\n",
        "        imageB = Image.open(imageB_tupple[0])\n",
        "\n",
        "        if self.set_luminance:\n",
        "            imageA = imageA.convert('L')\n",
        "            imageB = imageB.convert('L')\n",
        "\n",
        "        if self.should_invert:\n",
        "            imageA = ImageOps.invert(imageA)\n",
        "            imageB = ImageOps.invert(imageB)\n",
        "\n",
        "        if self.transform is not None:\n",
        "            imageA = self.transform(imageA)\n",
        "            imageB = self.transform(imageB)\n",
        "\n",
        "        if self.train:\n",
        "            return imageA, imageB, torch.from_numpy(np.array([int(imageA_tupple[1] != imageB_tupple[1])],\n",
        "                                              dtype=np.float32))\n",
        "        else:\n",
        "            return imageA, imageA_tupple[0], imageA_tupple[1], imageB, imageB_tupple[0], imageB_tupple[1]\n",
        "\n",
        "    def __len__(self):\n",
        "        return len(self.datasets.imgs)"
      ],
      "metadata": {
        "id": "Xro0XQIao9aK"
      },
      "execution_count": null,
      "outputs": []
    },
    {
      "cell_type": "code",
      "source": [
        "class RandRotateTransform:\n",
        "    \"\"\"Rotate by one of the given angles.\"\"\"\n",
        "\n",
        "    def __init__(self, angles):\n",
        "        self.angles = angles\n",
        "\n",
        "    def __call__(self, x):\n",
        "        angle = random.choice(self.angles)\n",
        "        return transforms.functional.rotate(x, angle)\n"
      ],
      "metadata": {
        "id": "dhI8LHlqpB71"
      },
      "execution_count": null,
      "outputs": []
    },
    {
      "cell_type": "code",
      "source": [
        "transform = transforms.Compose([\n",
        "                            transforms.Resize((100,100)),\n",
        "                            RandRotateTransform(angles=[0, 90, 180, 270]),\n",
        "                            transforms.RandomHorizontalFlip(),\n",
        "                            transforms.ToTensor(),\n",
        "                            transforms.Normalize((0.5,), (0.5,))\n",
        "])"
      ],
      "metadata": {
        "id": "M4bQLmUxpFKa"
      },
      "execution_count": null,
      "outputs": []
    },
    {
      "cell_type": "code",
      "source": [
        "datasets = iio.imread(\"/content/datasets_images.png\")"
      ],
      "metadata": {
        "id": "HFr6yJNmpI4J"
      },
      "execution_count": null,
      "outputs": []
    },
    {
      "cell_type": "code",
      "source": [
        "transform_visualize = transforms.Compose([\n",
        "                            transforms.Resize((100,100)),\n",
        "                            RandRotateTransform(angles=[0, 90, 180, 270]),\n",
        "                            transforms.RandomHorizontalFlip(),\n",
        "                            transforms.ToTensor(),\n",
        "])\n",
        "\n",
        "siamese_datasets = SiameseDataset(datasets=datasets,\n",
        "                                  train=True,\n",
        "                                  transform=transform_visualize,\n",
        "                                  should_invert=False,\n",
        "                                  set_luminance=SET_L)\n",
        "\n",
        "data_loader = DataLoader(siamese_datasets,\n",
        "                         shuffle=True,\n",
        "                         batch_size=BATCH_SIZE)\n",
        "\n",
        "example_batch = next(iter(data_loader))\n",
        "print('Total Datasets:', len(datasets), '\\n')\n",
        "\n",
        "explain_databatch(example_batch)\n",
        "\n",
        "print('\\nEach batch of the dataset 3 elements: 2 images and their similarity label')\n"
      ],
      "metadata": {
        "colab": {
          "base_uri": "https://localhost:8080/",
          "height": 345
        },
        "id": "ejXHJS2bpRN5",
        "outputId": "5c98681b-43fc-46ba-d02b-7f539bb5241b"
      },
      "execution_count": null,
      "outputs": [
        {
          "output_type": "error",
          "ename": "AttributeError",
          "evalue": "ignored",
          "traceback": [
            "\u001b[0;31m---------------------------------------------------------------------------\u001b[0m",
            "\u001b[0;31mAttributeError\u001b[0m                            Traceback (most recent call last)",
            "\u001b[0;32m<ipython-input-18-bd1269eb353c>\u001b[0m in \u001b[0;36m<cell line: 14>\u001b[0;34m()\u001b[0m\n\u001b[1;32m     12\u001b[0m                                   set_luminance=SET_L)\n\u001b[1;32m     13\u001b[0m \u001b[0;34m\u001b[0m\u001b[0m\n\u001b[0;32m---> 14\u001b[0;31m data_loader = DataLoader(siamese_datasets,\n\u001b[0m\u001b[1;32m     15\u001b[0m                          \u001b[0mshuffle\u001b[0m\u001b[0;34m=\u001b[0m\u001b[0;32mTrue\u001b[0m\u001b[0;34m,\u001b[0m\u001b[0;34m\u001b[0m\u001b[0;34m\u001b[0m\u001b[0m\n\u001b[1;32m     16\u001b[0m                          batch_size=BATCH_SIZE)\n",
            "\u001b[0;32m/usr/local/lib/python3.10/dist-packages/torch/utils/data/dataloader.py\u001b[0m in \u001b[0;36m__init__\u001b[0;34m(self, dataset, batch_size, shuffle, sampler, batch_sampler, num_workers, collate_fn, pin_memory, drop_last, timeout, worker_init_fn, multiprocessing_context, generator, prefetch_factor, persistent_workers, pin_memory_device)\u001b[0m\n\u001b[1;32m    349\u001b[0m             \u001b[0;32melse\u001b[0m\u001b[0;34m:\u001b[0m  \u001b[0;31m# map-style\u001b[0m\u001b[0;34m\u001b[0m\u001b[0;34m\u001b[0m\u001b[0m\n\u001b[1;32m    350\u001b[0m                 \u001b[0;32mif\u001b[0m \u001b[0mshuffle\u001b[0m\u001b[0;34m:\u001b[0m\u001b[0;34m\u001b[0m\u001b[0;34m\u001b[0m\u001b[0m\n\u001b[0;32m--> 351\u001b[0;31m                     \u001b[0msampler\u001b[0m \u001b[0;34m=\u001b[0m \u001b[0mRandomSampler\u001b[0m\u001b[0;34m(\u001b[0m\u001b[0mdataset\u001b[0m\u001b[0;34m,\u001b[0m \u001b[0mgenerator\u001b[0m\u001b[0;34m=\u001b[0m\u001b[0mgenerator\u001b[0m\u001b[0;34m)\u001b[0m  \u001b[0;31m# type: ignore[arg-type]\u001b[0m\u001b[0;34m\u001b[0m\u001b[0;34m\u001b[0m\u001b[0m\n\u001b[0m\u001b[1;32m    352\u001b[0m                 \u001b[0;32melse\u001b[0m\u001b[0;34m:\u001b[0m\u001b[0;34m\u001b[0m\u001b[0;34m\u001b[0m\u001b[0m\n\u001b[1;32m    353\u001b[0m                     \u001b[0msampler\u001b[0m \u001b[0;34m=\u001b[0m \u001b[0mSequentialSampler\u001b[0m\u001b[0;34m(\u001b[0m\u001b[0mdataset\u001b[0m\u001b[0;34m)\u001b[0m  \u001b[0;31m# type: ignore[arg-type]\u001b[0m\u001b[0;34m\u001b[0m\u001b[0;34m\u001b[0m\u001b[0m\n",
            "\u001b[0;32m/usr/local/lib/python3.10/dist-packages/torch/utils/data/sampler.py\u001b[0m in \u001b[0;36m__init__\u001b[0;34m(self, data_source, replacement, num_samples, generator)\u001b[0m\n\u001b[1;32m    104\u001b[0m                             \"replacement={}\".format(self.replacement))\n\u001b[1;32m    105\u001b[0m \u001b[0;34m\u001b[0m\u001b[0m\n\u001b[0;32m--> 106\u001b[0;31m         \u001b[0;32mif\u001b[0m \u001b[0;32mnot\u001b[0m \u001b[0misinstance\u001b[0m\u001b[0;34m(\u001b[0m\u001b[0mself\u001b[0m\u001b[0;34m.\u001b[0m\u001b[0mnum_samples\u001b[0m\u001b[0;34m,\u001b[0m \u001b[0mint\u001b[0m\u001b[0;34m)\u001b[0m \u001b[0;32mor\u001b[0m \u001b[0mself\u001b[0m\u001b[0;34m.\u001b[0m\u001b[0mnum_samples\u001b[0m \u001b[0;34m<=\u001b[0m \u001b[0;36m0\u001b[0m\u001b[0;34m:\u001b[0m\u001b[0;34m\u001b[0m\u001b[0;34m\u001b[0m\u001b[0m\n\u001b[0m\u001b[1;32m    107\u001b[0m             raise ValueError(\"num_samples should be a positive integer \"\n\u001b[1;32m    108\u001b[0m                              \"value, but got num_samples={}\".format(self.num_samples))\n",
            "\u001b[0;32m/usr/local/lib/python3.10/dist-packages/torch/utils/data/sampler.py\u001b[0m in \u001b[0;36mnum_samples\u001b[0;34m(self)\u001b[0m\n\u001b[1;32m    112\u001b[0m         \u001b[0;31m# dataset size might change at runtime\u001b[0m\u001b[0;34m\u001b[0m\u001b[0;34m\u001b[0m\u001b[0m\n\u001b[1;32m    113\u001b[0m         \u001b[0;32mif\u001b[0m \u001b[0mself\u001b[0m\u001b[0;34m.\u001b[0m\u001b[0m_num_samples\u001b[0m \u001b[0;32mis\u001b[0m \u001b[0;32mNone\u001b[0m\u001b[0;34m:\u001b[0m\u001b[0;34m\u001b[0m\u001b[0;34m\u001b[0m\u001b[0m\n\u001b[0;32m--> 114\u001b[0;31m             \u001b[0;32mreturn\u001b[0m \u001b[0mlen\u001b[0m\u001b[0;34m(\u001b[0m\u001b[0mself\u001b[0m\u001b[0;34m.\u001b[0m\u001b[0mdata_source\u001b[0m\u001b[0;34m)\u001b[0m\u001b[0;34m\u001b[0m\u001b[0;34m\u001b[0m\u001b[0m\n\u001b[0m\u001b[1;32m    115\u001b[0m         \u001b[0;32mreturn\u001b[0m \u001b[0mself\u001b[0m\u001b[0;34m.\u001b[0m\u001b[0m_num_samples\u001b[0m\u001b[0;34m\u001b[0m\u001b[0;34m\u001b[0m\u001b[0m\n\u001b[1;32m    116\u001b[0m \u001b[0;34m\u001b[0m\u001b[0m\n",
            "\u001b[0;32m<ipython-input-7-d1ec5d4cb669>\u001b[0m in \u001b[0;36m__len__\u001b[0;34m(self)\u001b[0m\n\u001b[1;32m     54\u001b[0m \u001b[0;34m\u001b[0m\u001b[0m\n\u001b[1;32m     55\u001b[0m     \u001b[0;32mdef\u001b[0m \u001b[0m__len__\u001b[0m\u001b[0;34m(\u001b[0m\u001b[0mself\u001b[0m\u001b[0;34m)\u001b[0m\u001b[0;34m:\u001b[0m\u001b[0;34m\u001b[0m\u001b[0;34m\u001b[0m\u001b[0m\n\u001b[0;32m---> 56\u001b[0;31m         \u001b[0;32mreturn\u001b[0m \u001b[0mlen\u001b[0m\u001b[0;34m(\u001b[0m\u001b[0mself\u001b[0m\u001b[0;34m.\u001b[0m\u001b[0mdatasets\u001b[0m\u001b[0;34m.\u001b[0m\u001b[0mimgs\u001b[0m\u001b[0;34m)\u001b[0m\u001b[0;34m\u001b[0m\u001b[0;34m\u001b[0m\u001b[0m\n\u001b[0m",
            "\u001b[0;31mAttributeError\u001b[0m: 'Array' object has no attribute 'imgs'"
          ]
        }
      ]
    },
    {
      "cell_type": "code",
      "source": [
        "concatenated = torch.cat((example_batch[0][:16], example_batch[1][:16]), 0)\n",
        "\n",
        "show_img(\n",
        "    torchvision.utils.make_grid(concatenated), save_into=os.path.join(SAVE_IMAGE_PATH, 'datasets_images.png')\n",
        ")"
      ],
      "metadata": {
        "colab": {
          "base_uri": "https://localhost:8080/",
          "height": 235
        },
        "id": "Nj9mZ5G6pViw",
        "outputId": "376b0018-4ff9-4d2c-deed-6ce4f840c6eb"
      },
      "execution_count": null,
      "outputs": [
        {
          "output_type": "error",
          "ename": "NameError",
          "evalue": "ignored",
          "traceback": [
            "\u001b[0;31m---------------------------------------------------------------------------\u001b[0m",
            "\u001b[0;31mNameError\u001b[0m                                 Traceback (most recent call last)",
            "\u001b[0;32m<ipython-input-19-9d16be4e58fb>\u001b[0m in \u001b[0;36m<cell line: 1>\u001b[0;34m()\u001b[0m\n\u001b[0;32m----> 1\u001b[0;31m \u001b[0mconcatenated\u001b[0m \u001b[0;34m=\u001b[0m \u001b[0mtorch\u001b[0m\u001b[0;34m.\u001b[0m\u001b[0mcat\u001b[0m\u001b[0;34m(\u001b[0m\u001b[0;34m(\u001b[0m\u001b[0mexample_batch\u001b[0m\u001b[0;34m[\u001b[0m\u001b[0;36m0\u001b[0m\u001b[0;34m]\u001b[0m\u001b[0;34m[\u001b[0m\u001b[0;34m:\u001b[0m\u001b[0;36m16\u001b[0m\u001b[0;34m]\u001b[0m\u001b[0;34m,\u001b[0m \u001b[0mexample_batch\u001b[0m\u001b[0;34m[\u001b[0m\u001b[0;36m1\u001b[0m\u001b[0;34m]\u001b[0m\u001b[0;34m[\u001b[0m\u001b[0;34m:\u001b[0m\u001b[0;36m16\u001b[0m\u001b[0;34m]\u001b[0m\u001b[0;34m)\u001b[0m\u001b[0;34m,\u001b[0m \u001b[0;36m0\u001b[0m\u001b[0;34m)\u001b[0m\u001b[0;34m\u001b[0m\u001b[0;34m\u001b[0m\u001b[0m\n\u001b[0m\u001b[1;32m      2\u001b[0m \u001b[0;34m\u001b[0m\u001b[0m\n\u001b[1;32m      3\u001b[0m show_img(\n\u001b[1;32m      4\u001b[0m     \u001b[0mtorchvision\u001b[0m\u001b[0;34m.\u001b[0m\u001b[0mutils\u001b[0m\u001b[0;34m.\u001b[0m\u001b[0mmake_grid\u001b[0m\u001b[0;34m(\u001b[0m\u001b[0mconcatenated\u001b[0m\u001b[0;34m)\u001b[0m\u001b[0;34m,\u001b[0m \u001b[0msave_into\u001b[0m\u001b[0;34m=\u001b[0m\u001b[0mos\u001b[0m\u001b[0;34m.\u001b[0m\u001b[0mpath\u001b[0m\u001b[0;34m.\u001b[0m\u001b[0mjoin\u001b[0m\u001b[0;34m(\u001b[0m\u001b[0mSAVE_IMAGE_PATH\u001b[0m\u001b[0;34m,\u001b[0m \u001b[0;34m'datasets_images.png'\u001b[0m\u001b[0;34m)\u001b[0m\u001b[0;34m\u001b[0m\u001b[0;34m\u001b[0m\u001b[0m\n\u001b[1;32m      5\u001b[0m )\n",
            "\u001b[0;31mNameError\u001b[0m: name 'example_batch' is not defined"
          ]
        }
      ]
    },
    {
      "cell_type": "code",
      "source": [
        "siamese_datasets = SiameseDataset(datasets=datasets,\n",
        "                                  transform=transform,\n",
        "                                  should_invert=False,\n",
        "                                  set_luminance=SET_L)\n",
        "\n",
        "train_loader = DataLoader(siamese_datasets,\n",
        "                          shuffle=True,\n",
        "                          num_workers=0,\n",
        "                          batch_size=BATCH_SIZE)\n"
      ],
      "metadata": {
        "colab": {
          "base_uri": "https://localhost:8080/",
          "height": 345
        },
        "id": "2xPIq-7jpadM",
        "outputId": "f6850a42-ebf3-42c4-ffc2-8bf9df9e6b45"
      },
      "execution_count": null,
      "outputs": [
        {
          "output_type": "error",
          "ename": "AttributeError",
          "evalue": "ignored",
          "traceback": [
            "\u001b[0;31m---------------------------------------------------------------------------\u001b[0m",
            "\u001b[0;31mAttributeError\u001b[0m                            Traceback (most recent call last)",
            "\u001b[0;32m<ipython-input-14-1b8b5875c4c9>\u001b[0m in \u001b[0;36m<cell line: 6>\u001b[0;34m()\u001b[0m\n\u001b[1;32m      4\u001b[0m                                   set_luminance=SET_L)\n\u001b[1;32m      5\u001b[0m \u001b[0;34m\u001b[0m\u001b[0m\n\u001b[0;32m----> 6\u001b[0;31m train_loader = DataLoader(siamese_datasets,\n\u001b[0m\u001b[1;32m      7\u001b[0m                           \u001b[0mshuffle\u001b[0m\u001b[0;34m=\u001b[0m\u001b[0;32mTrue\u001b[0m\u001b[0;34m,\u001b[0m\u001b[0;34m\u001b[0m\u001b[0;34m\u001b[0m\u001b[0m\n\u001b[1;32m      8\u001b[0m                           \u001b[0mnum_workers\u001b[0m\u001b[0;34m=\u001b[0m\u001b[0;36m0\u001b[0m\u001b[0;34m,\u001b[0m\u001b[0;34m\u001b[0m\u001b[0;34m\u001b[0m\u001b[0m\n",
            "\u001b[0;32m/usr/local/lib/python3.10/dist-packages/torch/utils/data/dataloader.py\u001b[0m in \u001b[0;36m__init__\u001b[0;34m(self, dataset, batch_size, shuffle, sampler, batch_sampler, num_workers, collate_fn, pin_memory, drop_last, timeout, worker_init_fn, multiprocessing_context, generator, prefetch_factor, persistent_workers, pin_memory_device)\u001b[0m\n\u001b[1;32m    349\u001b[0m             \u001b[0;32melse\u001b[0m\u001b[0;34m:\u001b[0m  \u001b[0;31m# map-style\u001b[0m\u001b[0;34m\u001b[0m\u001b[0;34m\u001b[0m\u001b[0m\n\u001b[1;32m    350\u001b[0m                 \u001b[0;32mif\u001b[0m \u001b[0mshuffle\u001b[0m\u001b[0;34m:\u001b[0m\u001b[0;34m\u001b[0m\u001b[0;34m\u001b[0m\u001b[0m\n\u001b[0;32m--> 351\u001b[0;31m                     \u001b[0msampler\u001b[0m \u001b[0;34m=\u001b[0m \u001b[0mRandomSampler\u001b[0m\u001b[0;34m(\u001b[0m\u001b[0mdataset\u001b[0m\u001b[0;34m,\u001b[0m \u001b[0mgenerator\u001b[0m\u001b[0;34m=\u001b[0m\u001b[0mgenerator\u001b[0m\u001b[0;34m)\u001b[0m  \u001b[0;31m# type: ignore[arg-type]\u001b[0m\u001b[0;34m\u001b[0m\u001b[0;34m\u001b[0m\u001b[0m\n\u001b[0m\u001b[1;32m    352\u001b[0m                 \u001b[0;32melse\u001b[0m\u001b[0;34m:\u001b[0m\u001b[0;34m\u001b[0m\u001b[0;34m\u001b[0m\u001b[0m\n\u001b[1;32m    353\u001b[0m                     \u001b[0msampler\u001b[0m \u001b[0;34m=\u001b[0m \u001b[0mSequentialSampler\u001b[0m\u001b[0;34m(\u001b[0m\u001b[0mdataset\u001b[0m\u001b[0;34m)\u001b[0m  \u001b[0;31m# type: ignore[arg-type]\u001b[0m\u001b[0;34m\u001b[0m\u001b[0;34m\u001b[0m\u001b[0m\n",
            "\u001b[0;32m/usr/local/lib/python3.10/dist-packages/torch/utils/data/sampler.py\u001b[0m in \u001b[0;36m__init__\u001b[0;34m(self, data_source, replacement, num_samples, generator)\u001b[0m\n\u001b[1;32m    104\u001b[0m                             \"replacement={}\".format(self.replacement))\n\u001b[1;32m    105\u001b[0m \u001b[0;34m\u001b[0m\u001b[0m\n\u001b[0;32m--> 106\u001b[0;31m         \u001b[0;32mif\u001b[0m \u001b[0;32mnot\u001b[0m \u001b[0misinstance\u001b[0m\u001b[0;34m(\u001b[0m\u001b[0mself\u001b[0m\u001b[0;34m.\u001b[0m\u001b[0mnum_samples\u001b[0m\u001b[0;34m,\u001b[0m \u001b[0mint\u001b[0m\u001b[0;34m)\u001b[0m \u001b[0;32mor\u001b[0m \u001b[0mself\u001b[0m\u001b[0;34m.\u001b[0m\u001b[0mnum_samples\u001b[0m \u001b[0;34m<=\u001b[0m \u001b[0;36m0\u001b[0m\u001b[0;34m:\u001b[0m\u001b[0;34m\u001b[0m\u001b[0;34m\u001b[0m\u001b[0m\n\u001b[0m\u001b[1;32m    107\u001b[0m             raise ValueError(\"num_samples should be a positive integer \"\n\u001b[1;32m    108\u001b[0m                              \"value, but got num_samples={}\".format(self.num_samples))\n",
            "\u001b[0;32m/usr/local/lib/python3.10/dist-packages/torch/utils/data/sampler.py\u001b[0m in \u001b[0;36mnum_samples\u001b[0;34m(self)\u001b[0m\n\u001b[1;32m    112\u001b[0m         \u001b[0;31m# dataset size might change at runtime\u001b[0m\u001b[0;34m\u001b[0m\u001b[0;34m\u001b[0m\u001b[0m\n\u001b[1;32m    113\u001b[0m         \u001b[0;32mif\u001b[0m \u001b[0mself\u001b[0m\u001b[0;34m.\u001b[0m\u001b[0m_num_samples\u001b[0m \u001b[0;32mis\u001b[0m \u001b[0;32mNone\u001b[0m\u001b[0;34m:\u001b[0m\u001b[0;34m\u001b[0m\u001b[0;34m\u001b[0m\u001b[0m\n\u001b[0;32m--> 114\u001b[0;31m             \u001b[0;32mreturn\u001b[0m \u001b[0mlen\u001b[0m\u001b[0;34m(\u001b[0m\u001b[0mself\u001b[0m\u001b[0;34m.\u001b[0m\u001b[0mdata_source\u001b[0m\u001b[0;34m)\u001b[0m\u001b[0;34m\u001b[0m\u001b[0;34m\u001b[0m\u001b[0m\n\u001b[0m\u001b[1;32m    115\u001b[0m         \u001b[0;32mreturn\u001b[0m \u001b[0mself\u001b[0m\u001b[0;34m.\u001b[0m\u001b[0m_num_samples\u001b[0m\u001b[0;34m\u001b[0m\u001b[0;34m\u001b[0m\u001b[0m\n\u001b[1;32m    116\u001b[0m \u001b[0;34m\u001b[0m\u001b[0m\n",
            "\u001b[0;32m<ipython-input-7-d1ec5d4cb669>\u001b[0m in \u001b[0;36m__len__\u001b[0;34m(self)\u001b[0m\n\u001b[1;32m     54\u001b[0m \u001b[0;34m\u001b[0m\u001b[0m\n\u001b[1;32m     55\u001b[0m     \u001b[0;32mdef\u001b[0m \u001b[0m__len__\u001b[0m\u001b[0;34m(\u001b[0m\u001b[0mself\u001b[0m\u001b[0;34m)\u001b[0m\u001b[0;34m:\u001b[0m\u001b[0;34m\u001b[0m\u001b[0;34m\u001b[0m\u001b[0m\n\u001b[0;32m---> 56\u001b[0;31m         \u001b[0;32mreturn\u001b[0m \u001b[0mlen\u001b[0m\u001b[0;34m(\u001b[0m\u001b[0mself\u001b[0m\u001b[0;34m.\u001b[0m\u001b[0mdatasets\u001b[0m\u001b[0;34m.\u001b[0m\u001b[0mimgs\u001b[0m\u001b[0;34m)\u001b[0m\u001b[0;34m\u001b[0m\u001b[0;34m\u001b[0m\u001b[0m\n\u001b[0m",
            "\u001b[0;32m/usr/local/lib/python3.10/dist-packages/torchvision/datasets/__init__.py\u001b[0m in \u001b[0;36m__getattr__\u001b[0;34m(name)\u001b[0m\n\u001b[1;32m    143\u001b[0m         \u001b[0;32mreturn\u001b[0m \u001b[0mwrap_dataset_for_transforms_v2\u001b[0m\u001b[0;34m\u001b[0m\u001b[0;34m\u001b[0m\u001b[0m\n\u001b[1;32m    144\u001b[0m \u001b[0;34m\u001b[0m\u001b[0m\n\u001b[0;32m--> 145\u001b[0;31m     \u001b[0;32mraise\u001b[0m \u001b[0mAttributeError\u001b[0m\u001b[0;34m(\u001b[0m\u001b[0;34mf\"module {__name__!r} has no attribute {name!r}\"\u001b[0m\u001b[0;34m)\u001b[0m\u001b[0;34m\u001b[0m\u001b[0;34m\u001b[0m\u001b[0m\n\u001b[0m",
            "\u001b[0;31mAttributeError\u001b[0m: module 'torchvision.datasets' has no attribute 'imgs'"
          ]
        }
      ]
    },
    {
      "cell_type": "code",
      "source": [
        "siamese_datasets_ = SiameseDataset(datasets=datasets,\n",
        "                                  transform=transform_visualize,\n",
        "                                  should_invert=False,\n",
        "                                  set_luminance=SET_L)\n",
        "\n",
        "train_loader_ = DataLoader(siamese_datasets_,\n",
        "                          shuffle=True,\n",
        "                          num_workers=0,\n",
        "                          batch_size=BATCH_SIZE)\n",
        "\n",
        "example_batch = next(iter(train_loader_))\n",
        "\n",
        "explain_databatch(example_batch)\n",
        "\n",
        "concatenated = torch.cat((example_batch[0][:4],\n",
        "                          example_batch[1][:4]), 0)\n",
        "\n",
        "show_img(torchvision.utils.make_grid(concatenated),\n",
        "         save_into=os.path.join(SAVE_IMAGE_PATH, 'train_images.png'))\n",
        "\n",
        "print(torchvision.utils.make_grid(concatenated).shape)\n"
      ],
      "metadata": {
        "id": "Flsp0FAupfHY"
      },
      "execution_count": null,
      "outputs": []
    },
    {
      "cell_type": "code",
      "source": [
        "class SiamaseNet(nn.Module):\n",
        "\n",
        "    def __init__(self):\n",
        "        super(SiamaseNet, self).__init__()\n",
        "        self.conv_layer = nn.Sequential(\n",
        "            nn.ZeroPad2d(1),\n",
        "            nn.Conv2d(INPUT_D, 4, kernel_size=3),\n",
        "            nn.ReLU(),\n",
        "            nn.ZeroPad2d(1),\n",
        "            nn.Conv2d(4, 8, kernel_size=3),\n",
        "            nn.ReLU(),\n",
        "            nn.ZeroPad2d(1),\n",
        "            nn.Conv2d(8, 8, kernel_size=3),\n",
        "            nn.ReLU(),\n",
        "        )\n",
        "\n",
        "        self.fc_layer = nn.Sequential(\n",
        "            nn.Linear(8*100*100, 500),\n",
        "            nn.ReLU(),\n",
        "            nn.Linear(500, 500),\n",
        "            nn.ReLU(),\n",
        "            nn.Linear(500, 5),\n",
        "        )\n",
        "\n",
        "    def forward_once(self, x):\n",
        "        x = self.conv_layer(x)\n",
        "        x = x.view(x.size()[0], -1)\n",
        "        x = self.fc_layer(x)\n",
        "\n",
        "        return x\n",
        "\n",
        "    def forward(self, imageA, imageB):\n",
        "        resultA = self.forward_once(imageA)\n",
        "        resultB = self.forward_once(imageB)\n",
        "\n",
        "        return resultA, resultB\n"
      ],
      "metadata": {
        "id": "tOceRWFWpjoK"
      },
      "execution_count": null,
      "outputs": []
    },
    {
      "cell_type": "code",
      "source": [
        "siamese = SiamaseNet().to(device)\n"
      ],
      "metadata": {
        "id": "c61JayVIpm-L"
      },
      "execution_count": null,
      "outputs": []
    },
    {
      "cell_type": "code",
      "source": [
        "class ContrastiveLoss(torch.nn.Module):\n",
        "\n",
        "    def __init__(self, margin=2.0):\n",
        "        super(ContrastiveLoss, self).__init__()\n",
        "        self.margin = margin\n",
        "\n",
        "    def forward(self, resultA, resultB, label):\n",
        "        euclidean_distance = 0.5*F.pairwise_distance(resultA, resultB, keepdim=True) # L2 Norm\n",
        "\n",
        "        contrastive_loss = torch.mean((1-label) * torch.pow(euclidean_distance, 2) +\n",
        "                        (label) * torch.pow(torch.clamp(self.margin - euclidean_distance, min=0.0), 2))\n",
        "\n",
        "        return contrastive_loss\n"
      ],
      "metadata": {
        "id": "PvtGZXXcpq-o"
      },
      "execution_count": null,
      "outputs": []
    },
    {
      "cell_type": "code",
      "source": [
        "contrastive_loss = ContrastiveLoss()"
      ],
      "metadata": {
        "id": "eG5Kv470pwwS"
      },
      "execution_count": null,
      "outputs": []
    },
    {
      "cell_type": "code",
      "source": [
        "optimizer = optim.Adam(siamese.parameters(), lr=LR)"
      ],
      "metadata": {
        "id": "JrIwHxkSp0gJ"
      },
      "execution_count": null,
      "outputs": []
    },
    {
      "cell_type": "code",
      "source": [
        "train_loss = 0\n",
        "train_loss_history = []\n",
        "\n",
        "N = len(datasets)\n",
        "\n",
        "for epoch in range(N_EPOCHS):\n",
        "    for batch_idx, data in enumerate(train_loader):\n",
        "        imageA, imageB, label = data\n",
        "        imageA, imageB, label = imageA.to(device), imageB.to(device), label.to(device)\n",
        "\n",
        "        optimizer.zero_grad()\n",
        "        resultA, resultB = siamese(imageA, imageB)\n",
        "        loss = contrastive_loss(resultA, resultB, label)\n",
        "\n",
        "        loss.backward()\n",
        "        optimizer.step()\n",
        "\n",
        "        train_loss += loss.item()\n",
        "\n",
        "    BatchCount_PER_EPOCH = N//BATCH_SIZE\n",
        "    train_loss = train_loss/BatchCount_PER_EPOCH\n",
        "    train_loss_history.append(train_loss)\n",
        "\n",
        "    print('Train Epoch:{}\\t\\tLoss:{:.6f}'.format(epoch+1, train_loss))\n",
        "\n",
        "    if not os.path.exists(WEIGHT_PATH):\n",
        "        os.makedirs(WEIGHT_PATH)\n",
        "    torch.save(siamese, os.path.join(WEIGHT_PATH, 'siamese_{:03}.pt'.format(epoch+1)))\n",
        "    train_loss = 0\n",
        "\n",
        "    siamese.train()"
      ],
      "metadata": {
        "id": "viYjF95rp64C"
      },
      "execution_count": null,
      "outputs": []
    },
    {
      "cell_type": "code",
      "source": [
        "training_data = np.array(train_loss_history)\n",
        "np.save(\"training_history\", training_data)\n",
        "training_data = np.load(\"training_history.npy\")\n"
      ],
      "metadata": {
        "id": "fSfYpvOnp_vC"
      },
      "execution_count": null,
      "outputs": []
    },
    {
      "cell_type": "code",
      "source": [
        "plt.figure(figsize=(10,10))\n",
        "plt.title(\"Training Loss for one-shot recognition of Defects in Steel surfaces\")\n",
        "plt.plot(training_data, label=\"Train Loss\")\n",
        "\n",
        "plt.xlabel(\"Epoch\")\n",
        "plt.grid(True)\n",
        "plt.ylabel(\"Loss\")\n",
        "plt.legend()\n",
        "\n",
        "if not os.path.exists(SAVE_IMAGE_PATH):\n",
        "    os.makedirs(SAVE_IMAGE_PATH)\n",
        "\n",
        "plt.savefig(os.path.join(SAVE_IMAGE_PATH, 'final_train_loss.svg'),\n",
        "            quality=95, dpi=400, pad_inches=0, bbox_inches='tight')\n",
        "plt.show()"
      ],
      "metadata": {
        "id": "5ktd0lApqDyv"
      },
      "execution_count": null,
      "outputs": []
    },
    {
      "cell_type": "code",
      "source": [
        "TEST_DIR = './dataset_all/testing/'\n",
        "class_list = os.listdir(TEST_DIR)\n",
        "class_list.sort()\n",
        "test_datasets = torchvision.datasets.ImageFolder(root=TEST_DIR)\n",
        "siamese_test_datasets = SiameseDataset(datasets=test_datasets,\n",
        "                                       train=False,\n",
        "                                       transform=transform,\n",
        "                                       should_invert=False,\n",
        "                                       set_luminance=SET_L)\n",
        "siamese = torch.load(\"./weights/steel/siamese_100.pt\")\n",
        "siamese.eval()\n"
      ],
      "metadata": {
        "id": "94nsTKe1qJ4A"
      },
      "execution_count": null,
      "outputs": []
    },
    {
      "cell_type": "code",
      "source": [
        "test_loader = DataLoader(siamese_test_datasets,\n",
        "                         num_workers=0,\n",
        "                         batch_size=1,\n",
        "                         shuffle=True)\n",
        "\n",
        "data_iter = iter(test_loader)\n",
        "\n",
        "imageA, pathA, classA, _, _, _ = next(data_iter)\n",
        "SAVE_TEST_RESULTS_PATH = \"./assets/paper\"\n",
        "SAVE_TEST_RESULTS = \"./assets/paper\"\n",
        "test_loader = DataLoader(siamese_test_datasets,\n",
        "                         num_workers=0,\n",
        "                         batch_size=1,\n",
        "                         shuffle=True)\n",
        "\n",
        "data_iter = iter(test_loader)\n",
        "\n",
        "correct_ = 0\n",
        "count = 0\n",
        "for i in range(len(siamese_test_datasets)):\n",
        "    try:\n",
        "        count += 1\n",
        "        imageA, pathA, classA, imageB, pathB, classB = next(data_iter)\n",
        "    except:\n",
        "        break\n",
        "\n",
        "    with torch.no_grad():\n",
        "        resultA, resultB = siamese(Variable(imageA).to(device), Variable(imageB).to(device))\n",
        "        euclidean_distance = F.pairwise_distance(resultA, resultB)\n",
        "\n",
        "        if euclidean_distance>=2. and classA!=classB:\n",
        "            correct_ += 1\n",
        "        elif euclidean_distance<2. and classA==classB:\n",
        "            correct_ += 1\n",
        "\n",
        "    concatenated = torch.cat((imageA, imageB),0)\n",
        "\n",
        "    # Uncomment below lines to save figures\n",
        "    image_file_name = 'test_output_{}.png'.format(i)\n",
        "    save_results_in = os.path.join(SAVE_TEST_RESULTS_PATH, image_file_name)"
      ],
      "metadata": {
        "id": "-0NDlOCtqP2a"
      },
      "execution_count": null,
      "outputs": []
    }
  ]
}